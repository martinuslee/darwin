{
 "cells": [
  {
   "cell_type": "code",
   "execution_count": 355,
   "metadata": {},
   "outputs": [
    {
     "name": "stdout",
     "output_type": "stream",
     "text": [
      "32290492\n"
     ]
    }
   ],
   "source": [
    "import os\n",
    "from Bio import SeqIO\n",
    "import random\n",
    "#species = \"Coturnix_japonica\" \n",
    "#sample = \"SRR1758114_1.fastq\"\n",
    "species = \"Homo_sapiens\"\n",
    "sample = \"SRR7830171_1.fastq\"\n",
    "\n",
    "data = open(f\"3.SAMPLE/{species}/{sample}\", 'rb')\n",
    "data.seek(-2,os.SEEK_END)\n",
    "while data.read(1) != b' ':\n",
    "    data.seek(-2, os.SEEK_CUR)\n",
    "while data.read(1) != b'.':\n",
    "   data.seek(-2, os.SEEK_CUR)\n",
    "length = int(data.readline().decode().split(' ')[0])\n",
    "print(length)"
   ]
  },
  {
   "cell_type": "markdown",
   "metadata": {},
   "source": [
    "sam = int(len(records)*0.05) #5%\n",
    "sam"
   ]
  },
  {
   "cell_type": "code",
   "execution_count": 357,
   "metadata": {},
   "outputs": [
    {
     "name": "stdout",
     "output_type": "stream",
     "text": [
      "32290492\n",
      "[1401929, 1530971, 2019821, 6279916, 8342041, 15766341, 22603432, 24342012, 26762126, 29423004]\n"
     ]
    }
   ],
   "source": [
    "index = list(range(1,length+1))\n",
    "print(len(index))\n",
    "#sampleIdx = random.sample(index, sam)\n",
    "\n",
    "#sampleIdx.sort()\n",
    "#sampleIdx = list(map(sorted, [random.sample(index, 10)]))\n",
    "sampleIdx = sorted(random.sample(index, 10))\n",
    "\n",
    "print(sampleIdx)\n",
    "#print(list(map(len, sampleIdx)))\n",
    "#sampleRecords"
   ]
  },
  {
   "cell_type": "code",
   "execution_count": null,
   "metadata": {},
   "outputs": [],
   "source": []
  },
  {
   "cell_type": "code",
   "execution_count": 358,
   "metadata": {},
   "outputs": [
    {
     "name": "stdout",
     "output_type": "stream",
     "text": [
      "32290492\n"
     ]
    }
   ],
   "source": [
    "sampleRecords, sampleRecords_2 = [], []\n",
    "for i in sampleIdx:\n",
    "    sampleRecords.append(records[i])\n",
    "    sampleRecords_2.append(records_2[i])\n"
   ]
  },
  {
   "cell_type": "code",
   "execution_count": 62,
   "metadata": {},
   "outputs": [
    {
     "data": {
      "text/plain": [
       "(10, 10)"
      ]
     },
     "execution_count": 62,
     "metadata": {},
     "output_type": "execute_result"
    }
   ],
   "source": [
    "len(sampleRecords), len(sampleRecords_2)"
   ]
  },
  {
   "cell_type": "code",
   "execution_count": 63,
   "metadata": {},
   "outputs": [],
   "source": [
    "for i in range(len(sampleRecords)):\n",
    "    SeqIO.write(sampleRecords, f'3.SAMPLE/Coturnix_japonica/test_r10_SRR1758114_1.fastq', \"fastq\")\n",
    "    SeqIO.write(sampleRecords_2, f'3.SAMPLE/Coturnix_japonica/test_r10_SRR1758114_2.fastq', \"fastq\")"
   ]
  }
 ],
 "metadata": {
  "interpreter": {
   "hash": "31f2aee4e71d21fbe5cf8b01ff0e069b9275f58929596ceb00d14d90e3e16cd6"
  },
  "kernelspec": {
   "display_name": "Python 3.8.10 64-bit",
   "name": "python3"
  },
  "language_info": {
   "codemirror_mode": {
    "name": "ipython",
    "version": 3
   },
   "file_extension": ".py",
   "mimetype": "text/x-python",
   "name": "python",
   "nbconvert_exporter": "python",
   "pygments_lexer": "ipython3",
   "version": "3.8.10"
  }
 },
 "nbformat": 4,
 "nbformat_minor": 5
}
