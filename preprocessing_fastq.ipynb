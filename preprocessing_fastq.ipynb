{
 "cells": [
  {
   "cell_type": "code",
   "execution_count": 2,
   "metadata": {},
   "outputs": [],
   "source": [
    "from Bio import SeqIO\n",
    "import random\n",
    "#identifiers = [seq_record.id for seq_record in SeqIO.parse(\"3.SAMPLE/SRR1758114_1.fastq\",\"fastq\")]\n",
    "#len(identifiers)"
   ]
  },
  {
   "cell_type": "code",
   "execution_count": 3,
   "metadata": {},
   "outputs": [],
   "source": [
    "records = list(SeqIO.parse(\"3.SAMPLE/Coturnix_japonica/SRR1758114_1.fastq\",\"fastq\"))\n",
    "records_2 = list(SeqIO.parse(\"3.SAMPLE/Coturnix_japonica/SRR1758114_1.fastq\",\"fastq\"))"
   ]
  },
  {
   "cell_type": "code",
   "execution_count": 4,
   "metadata": {},
   "outputs": [
    {
     "name": "stdout",
     "output_type": "stream",
     "text": [
      "[10, 50, 100, 500, 1000, 5000, 10000, 50000]\n"
     ]
    }
   ],
   "source": [
    "# sam = int(len(records)*0.00001) #10%\n",
    "# sam\n",
    "sam = [10,50,100,500,1000,5000,10000,50000]\n",
    "print(sam)"
   ]
  },
  {
   "cell_type": "markdown",
   "metadata": {},
   "source": [
    "sam = int(len(records)*0.05) #5%\n",
    "sam"
   ]
  },
  {
   "cell_type": "code",
   "execution_count": 5,
   "metadata": {},
   "outputs": [
    {
     "name": "stdout",
     "output_type": "stream",
     "text": [
      "[2102486, 10295590, 12609920, 15049450, 17774345, 18772240, 20846320, 21108756, 22104302, 24847470]\n",
      "[10, 50, 100, 500, 1000, 5000, 10000, 50000]\n"
     ]
    }
   ],
   "source": [
    "index = list(range(1,len(records)+1))\n",
    "len(index)\n",
    "#sampleIdx = random.sample(index, sam)\n",
    "sampleIdx = [random.sample(index, size) for size in sam]\n",
    "#sampleIdx.sort()\n",
    "sampleIdx = list(map(sorted, sampleIdx))\n",
    "print(sampleIdx[0])\n",
    "print(list(map(len, sampleIdx)))\n",
    "#sampleRecords"
   ]
  },
  {
   "cell_type": "code",
   "execution_count": 6,
   "metadata": {},
   "outputs": [],
   "source": [
    "sampled = []\n",
    "sampleRecords, sampleRecords_2 = [], []\n",
    "for sample in sampleIdx:\n",
    "    for i in sample:\n",
    "        sampleRecords.append(records[i])\n",
    "        sampleRecords_2.append(records_2[i])\n",
    "    sampled.append(list(zip(sampleRecords, sampleRecords_2)))"
   ]
  },
  {
   "cell_type": "code",
   "execution_count": 7,
   "metadata": {},
   "outputs": [
    {
     "name": "stdout",
     "output_type": "stream",
     "text": [
      "(SeqRecord(seq=Seq('GCATCCTTCATTTCCTCATGGTGTAATGTAATNNGCATTNCTNTTNGCAGTGGA...GTT'), id='SRR1758114.2102487', name='SRR1758114.2102487', description='SRR1758114.2102487 HWI-ST337R:381:C164CACXX:6:1111:1489:82842 length=101', dbxrefs=[]),\n",
      " SeqRecord(seq=Seq('GCATCCTTCATTTCCTCATGGTGTAATGTAATNNGCATTNCTNTTNGCAGTGGA...GTT'), id='SRR1758114.2102487', name='SRR1758114.2102487', description='SRR1758114.2102487 HWI-ST337R:381:C164CACXX:6:1111:1489:82842 length=101', dbxrefs=[]))\n"
     ]
    },
    {
     "data": {
      "text/plain": [
       "(66660, 66660)"
      ]
     },
     "execution_count": 7,
     "metadata": {},
     "output_type": "execute_result"
    }
   ],
   "source": [
    "import pprint\n",
    "pprint.pprint(sampled[0][0])\n",
    "len(sampleRecords), len(sampleRecords_2)"
   ]
  },
  {
   "cell_type": "code",
   "execution_count": 8,
   "metadata": {},
   "outputs": [
    {
     "name": "stdout",
     "output_type": "stream",
     "text": [
      "['r10', 'r50', 'r100', 'r500', 'r1000', 'r5000', 'r10000', 'r50000']\n"
     ]
    }
   ],
   "source": [
    "#sampleRecords[1:5],sampleRecords_2[1:5]\n",
    "reads = list(map(lambda x: f'r{x}', sam))\n",
    "print(reads)"
   ]
  },
  {
   "cell_type": "code",
   "execution_count": 9,
   "metadata": {},
   "outputs": [
    {
     "name": "stdout",
     "output_type": "stream",
     "text": [
      "ID: SRR1758114.2102487\n",
      "Name: SRR1758114.2102487\n",
      "Description: SRR1758114.2102487 HWI-ST337R:381:C164CACXX:6:1111:1489:82842 length=101\n",
      "Number of features: 0\n",
      "Per letter annotation for: phred_quality\n",
      "Seq('GCATCCTTCATTTCCTCATGGTGTAATGTAATNNGCATTNCTNTTNGCAGTGGA...GTT') ID: SRR1758114.2102487\n",
      "Name: SRR1758114.2102487\n",
      "Description: SRR1758114.2102487 HWI-ST337R:381:C164CACXX:6:1111:1489:82842 length=101\n",
      "Number of features: 0\n",
      "Per letter annotation for: phred_quality\n",
      "Seq('GCATCCTTCATTTCCTCATGGTGTAATGTAATNNGCATTNCTNTTNGCAGTGGA...GTT')\n"
     ]
    }
   ],
   "source": [
    "print(*sampled[0][0])"
   ]
  },
  {
   "cell_type": "code",
   "execution_count": 97,
   "metadata": {},
   "outputs": [],
   "source": [
    "for i, sample in zip(range(len(sampled)), sampled):\n",
    "    fastq1, fastq2 = zip(*sample)\n",
    "    SeqIO.write(fastq1, f'3.SAMPLE/Coturnix_japonica/{reads[i]}_SRR1758114_1.fastq', \"fastq\")\n",
    "    SeqIO.write(fastq2, f'3.SAMPLE/Coturnix_japonica/{reads[i]}_SRR1758114_2.fastq', \"fastq\")"
   ]
  }
 ],
 "metadata": {
  "interpreter": {
   "hash": "31f2aee4e71d21fbe5cf8b01ff0e069b9275f58929596ceb00d14d90e3e16cd6"
  },
  "kernelspec": {
   "display_name": "Python 3.8.10 64-bit",
   "name": "python3"
  },
  "language_info": {
   "codemirror_mode": {
    "name": "ipython",
    "version": 3
   },
   "file_extension": ".py",
   "mimetype": "text/x-python",
   "name": "python",
   "nbconvert_exporter": "python",
   "pygments_lexer": "ipython3",
   "version": "3.8.10"
  }
 },
 "nbformat": 4,
 "nbformat_minor": 5
}
