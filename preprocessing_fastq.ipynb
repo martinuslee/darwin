{
 "cells": [
  {
   "cell_type": "code",
   "execution_count": 5,
   "source": [
    "from Bio import SeqIO\n",
    "import random\n",
    "#identifiers = [seq_record.id for seq_record in SeqIO.parse(\"3.SAMPLE/SRR1758114_1.fastq\",\"fastq\")]\n",
    "#len(identifiers)"
   ],
   "outputs": [],
   "metadata": {}
  },
  {
   "cell_type": "code",
   "execution_count": 2,
   "source": [
    "records = list(SeqIO.parse(\"3.SAMPLE/Homo_sapiens/SRR7830171_1.fastq\",\"fastq\"))\n",
    "records_2 = list(SeqIO.parse(\"3.SAMPLE/Homo_sapiens/SRR7830171_2.fastq\",\"fastq\"))"
   ],
   "outputs": [],
   "metadata": {}
  },
  {
   "cell_type": "code",
   "execution_count": 34,
   "source": [
    "sam = int(len(records)*0.00001) #10%\n",
    "sam"
   ],
   "outputs": [
    {
     "output_type": "execute_result",
     "data": {
      "text/plain": [
       "322"
      ]
     },
     "metadata": {},
     "execution_count": 34
    }
   ],
   "metadata": {}
  },
  {
   "cell_type": "markdown",
   "source": [
    "sam = int(len(records)*0.05) #5%\n",
    "sam"
   ],
   "metadata": {}
  },
  {
   "cell_type": "code",
   "execution_count": 35,
   "source": [
    "index = list(range(1,len(records)+1))\n",
    "len(index)\n",
    "sampleIdx = random.sample(index, sam)\n",
    "sampleIdx.sort()\n",
    "#sampleRecords"
   ],
   "outputs": [],
   "metadata": {}
  },
  {
   "cell_type": "code",
   "execution_count": 36,
   "source": [
    "type(sampleIdx)"
   ],
   "outputs": [
    {
     "output_type": "execute_result",
     "data": {
      "text/plain": [
       "list"
      ]
     },
     "metadata": {},
     "execution_count": 36
    }
   ],
   "metadata": {}
  },
  {
   "cell_type": "code",
   "execution_count": 37,
   "source": [
    "sampleRecords=list()\n",
    "sampleRecords_2=list()\n",
    "for i in sampleIdx:\n",
    "    sampleRecords.append(records[i])\n",
    "    sampleRecords_2.append(records_2[i])"
   ],
   "outputs": [],
   "metadata": {}
  },
  {
   "cell_type": "code",
   "execution_count": 38,
   "source": [
    "len(sampleRecords), len(sampleRecords_2)"
   ],
   "outputs": [
    {
     "output_type": "execute_result",
     "data": {
      "text/plain": [
       "(322, 322)"
      ]
     },
     "metadata": {},
     "execution_count": 38
    }
   ],
   "metadata": {}
  },
  {
   "cell_type": "code",
   "execution_count": 39,
   "source": [
    "sampleRecords[1:5],sampleRecords_2[1:5]"
   ],
   "outputs": [
    {
     "output_type": "execute_result",
     "data": {
      "text/plain": [
       "([SeqRecord(seq=Seq('ATGGGATCTAATTAAACTAAAGAGCTTCTGCACAGCAAAAGAAACTACCATCAG...AAC'), id='SRR7830171.218235', name='SRR7830171.218235', description='SRR7830171.218235 218235 length=76', dbxrefs=[]),\n",
       "  SeqRecord(seq=Seq('CTCCAACCCTGGCTTCTGAGGCAGATAATAAACACATCAATTACTGGTAGATGA...AAA'), id='SRR7830171.237886', name='SRR7830171.237886', description='SRR7830171.237886 237886 length=76', dbxrefs=[]),\n",
       "  SeqRecord(seq=Seq('CCCTTCTTTATCAGGAACACCCATCTCTTAGAGCTACGCACATCTTGTTCTAAC...TTC'), id='SRR7830171.467500', name='SRR7830171.467500', description='SRR7830171.467500 467500 length=76', dbxrefs=[]),\n",
       "  SeqRecord(seq=Seq('CCCCCATTCAAGATATCTTGTATACTCTTCCACATCAGTACATATAGATTAACC...CAA'), id='SRR7830171.538293', name='SRR7830171.538293', description='SRR7830171.538293 538293 length=76', dbxrefs=[])],\n",
       " [SeqRecord(seq=Seq('TGTAGATTCTGGATATTAGACCTTTGTCAGATGAGTAGGTTGCAAAAATTTTCT...GTT'), id='SRR7830171.218235', name='SRR7830171.218235', description='SRR7830171.218235 218235 length=76', dbxrefs=[]),\n",
       "  SeqRecord(seq=Seq('CCACAAACATATTTTCATATTCTTTATGTGGAAGAATAGATTTTAAAGTACAAG...GGA'), id='SRR7830171.237886', name='SRR7830171.237886', description='SRR7830171.237886 237886 length=76', dbxrefs=[]),\n",
       "  SeqRecord(seq=Seq('GTCCTGGAACTTGGGAGTGGAGAGGAGCTGATGCGTGTGAGAAAGTTCACACAT...CCG'), id='SRR7830171.467500', name='SRR7830171.467500', description='SRR7830171.467500 467500 length=76', dbxrefs=[]),\n",
       "  SeqRecord(seq=Seq('TATCTATTAGAAAATTTTGCATATTCATACCTTTTGATTCAGCAGTTATAATTC...GAC'), id='SRR7830171.538293', name='SRR7830171.538293', description='SRR7830171.538293 538293 length=76', dbxrefs=[])])"
      ]
     },
     "metadata": {},
     "execution_count": 39
    }
   ],
   "metadata": {}
  },
  {
   "cell_type": "code",
   "execution_count": 40,
   "source": [
    "SeqIO.write(sampleRecords, \"3.SAMPLE/Homo_sapiens/sampled1e-05%_SRR1758114_1.fastq\", \"fastq\")\n",
    "SeqIO.write(sampleRecords_2, \"3.SAMPLE/Homo_sapiens/sampled1e-05%_SRR1758114_2.fastq\", \"fastq\")"
   ],
   "outputs": [
    {
     "output_type": "execute_result",
     "data": {
      "text/plain": [
       "322"
      ]
     },
     "metadata": {},
     "execution_count": 40
    }
   ],
   "metadata": {}
  }
 ],
 "metadata": {
  "kernelspec": {
   "name": "python3",
   "display_name": "Python 3.8.10 64-bit"
  },
  "language_info": {
   "codemirror_mode": {
    "name": "ipython",
    "version": 3
   },
   "file_extension": ".py",
   "mimetype": "text/x-python",
   "name": "python",
   "nbconvert_exporter": "python",
   "pygments_lexer": "ipython3",
   "version": "3.8.10"
  },
  "interpreter": {
   "hash": "31f2aee4e71d21fbe5cf8b01ff0e069b9275f58929596ceb00d14d90e3e16cd6"
  }
 },
 "nbformat": 4,
 "nbformat_minor": 5
}