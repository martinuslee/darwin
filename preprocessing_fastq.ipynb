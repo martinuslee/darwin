{
 "cells": [
  {
   "cell_type": "code",
   "execution_count": 29,
   "metadata": {},
   "outputs": [
    {
     "name": "stdout",
     "output_type": "stream",
     "text": [
      "32290492\n"
     ]
    }
   ],
   "source": [
    "import os\n",
    "from Bio import SeqIO\n",
    "import random\n",
    "#species = \"Coturnix_japonica\" \n",
    "#sample = \"SRR1758114_1.fastq\"\n",
    "species = \"Homo_sapiens\"\n",
    "sample = \"SRR7830171_1.fastq\"\n",
    "sample2 = \"SRR7830171_2.fastq\"\n",
    "\n",
    "data = open(f\"3.SAMPLE/{species}/{sample}\", 'rb')\n",
    "data.seek(-2,os.SEEK_END)\n",
    "while data.read(1) != b' ':\n",
    "    data.seek(-2, os.SEEK_CUR)\n",
    "while data.read(1) != b'.':\n",
    "   data.seek(-2, os.SEEK_CUR)\n",
    "length = int(data.readline().decode().split(' ')[0])\n",
    "print(length)"
   ]
  },
  {
   "cell_type": "markdown",
   "metadata": {},
   "source": [
    "sam = int(len(records)*0.05) #5%\n",
    "sam"
   ]
  },
  {
   "cell_type": "code",
   "execution_count": 30,
   "metadata": {},
   "outputs": [
    {
     "name": "stdout",
     "output_type": "stream",
     "text": [
      "32290492\n",
      "[7488384, 10945671, 13420250, 15577215, 16366101, 19101694, 23386629, 29044442, 30458058, 31427301]\n"
     ]
    }
   ],
   "source": [
    "index = list(range(1,length+1))\n",
    "print(len(index))\n",
    "sampleIdx = sorted(random.sample(index, 10))\n",
    "print(sampleIdx)"
   ]
  },
  {
   "cell_type": "code",
   "execution_count": 31,
   "id": "c76fcf75",
   "metadata": {},
   "outputs": [],
   "source": [
    "record_dict, record2_dict= SeqIO.index(f\"3.SAMPLE/{species}/{sample}\", \"fastq\"), SeqIO.index(f\"3.SAMPLE/{species}/{sample2}\", \"fastq\")"
   ]
  },
  {
   "cell_type": "code",
   "execution_count": 32,
   "id": "7b1365be",
   "metadata": {},
   "outputs": [],
   "source": [
    "sampleName = sample.split('_')[0]\n",
    "sampleRecords, sampleRecords_2 = [], []\n",
    "for idx in sampleIdx:\n",
    "    sampleRecords.append(record_dict[f'{sampleName}.{idx}'])\n",
    "    sampleRecords_2.append(record2_dict[f'{sampleName}.{idx}'])"
   ]
  },
  {
   "cell_type": "code",
   "execution_count": 33,
   "metadata": {},
   "outputs": [],
   "source": [
    "for i in range(len(sampleRecords)):\n",
    "    SeqIO.write(sampleRecords, f'3.SAMPLE/Coturnix_japonica/test_r10_SRR1758114_1.fastq', \"fastq\")\n",
    "    SeqIO.write(sampleRecords_2, f'3.SAMPLE/Coturnix_japonica/test_r10_SRR1758114_2.fastq', \"fastq\")"
   ]
  }
 ],
 "metadata": {
  "interpreter": {
   "hash": "31f2aee4e71d21fbe5cf8b01ff0e069b9275f58929596ceb00d14d90e3e16cd6"
  },
  "kernelspec": {
   "display_name": "Python 3.8.10 64-bit",
   "name": "python3"
  },
  "language_info": {
   "codemirror_mode": {
    "name": "ipython",
    "version": 3
   },
   "file_extension": ".py",
   "mimetype": "text/x-python",
   "name": "python",
   "nbconvert_exporter": "python",
   "pygments_lexer": "ipython3",
   "version": "3.8.10"
  }
 },
 "nbformat": 4,
 "nbformat_minor": 5
}
