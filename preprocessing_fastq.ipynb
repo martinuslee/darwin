{
 "cells": [
  {
   "cell_type": "code",
   "execution_count": 4,
   "source": [
    "from Bio import SeqIO\n",
    "identifiers = [seq_record.id for seq_record in SeqIO.parse(\"3.SAMPLE/SRR1758114_1.fastq\",\"fastq\")]"
   ],
   "outputs": [
    {
     "output_type": "execute_result",
     "data": {
      "text/plain": [
       "'/disk10/bijh'"
      ]
     },
     "metadata": {},
     "execution_count": 4
    }
   ],
   "metadata": {}
  },
  {
   "cell_type": "code",
   "execution_count": 3,
   "source": [
    "len(identifiers)"
   ],
   "outputs": [
    {
     "output_type": "error",
     "ename": "NameError",
     "evalue": "name 'identifiers' is not defined",
     "traceback": [
      "\u001b[0;31m---------------------------------------------------------------------------\u001b[0m",
      "\u001b[0;31mNameError\u001b[0m                                 Traceback (most recent call last)",
      "\u001b[0;32m<ipython-input-3-2593c790ec51>\u001b[0m in \u001b[0;36m<module>\u001b[0;34m\u001b[0m\n\u001b[0;32m----> 1\u001b[0;31m \u001b[0mlen\u001b[0m\u001b[0;34m(\u001b[0m\u001b[0midentifiers\u001b[0m\u001b[0;34m)\u001b[0m\u001b[0;34m\u001b[0m\u001b[0;34m\u001b[0m\u001b[0m\n\u001b[0m",
      "\u001b[0;31mNameError\u001b[0m: name 'identifiers' is not defined"
     ]
    }
   ],
   "metadata": {}
  },
  {
   "cell_type": "code",
   "execution_count": null,
   "source": [
    "records = list(SeqIO.parse(\"3.SAMPLE/SRR1758114_1.fastqSRR1758114_1.fastq\",\"fastq\"))"
   ],
   "outputs": [],
   "metadata": {}
  },
  {
   "cell_type": "code",
   "execution_count": null,
   "source": [
    "records[0]"
   ],
   "outputs": [
    {
     "output_type": "execute_result",
     "data": {
      "text/plain": [
       "SeqRecord(seq=Seq('NTCATTGTTTACTCTTTGTACTATAGCCAGGTNAGACTTGCCNTTCTTGAACTC...GCG'), id='SRR1758114.1', name='SRR1758114.1', description='SRR1758114.1 HWI-ST337R:381:C164CACXX:6:1101:1589:2007 length=101', dbxrefs=[])"
      ]
     },
     "metadata": {},
     "execution_count": 4
    }
   ],
   "metadata": {}
  },
  {
   "cell_type": "code",
   "execution_count": null,
   "source": [
    "records_2 = list(SeqIO.parse(\"3.SAMPLE/SRR1758114_2.fastq\",\"fastq\"))"
   ],
   "outputs": [],
   "metadata": {}
  },
  {
   "cell_type": "code",
   "execution_count": null,
   "source": [
    "sam = int(len(records)*0.0001) #0.01%\n",
    "sam"
   ],
   "outputs": [
    {
     "output_type": "execute_result",
     "data": {
      "text/plain": [
       "3288"
      ]
     },
     "metadata": {},
     "execution_count": 7
    }
   ],
   "metadata": {}
  },
  {
   "cell_type": "markdown",
   "source": [
    "sam = int(len(records)*0.05) #5%\n",
    "sam"
   ],
   "metadata": {}
  },
  {
   "cell_type": "code",
   "execution_count": null,
   "source": [
    "import random\n",
    "index = list(range(1,len(records)+1))\n",
    "len(index)\n",
    "sampleIdx = random.sample(index, sam)\n",
    "sampleIdx.sort()\n",
    "#sampleRecords"
   ],
   "outputs": [],
   "metadata": {}
  },
  {
   "cell_type": "code",
   "execution_count": null,
   "source": [
    "type(sampleIdx)"
   ],
   "outputs": [
    {
     "output_type": "execute_result",
     "data": {
      "text/plain": [
       "list"
      ]
     },
     "metadata": {},
     "execution_count": 9
    }
   ],
   "metadata": {}
  },
  {
   "cell_type": "code",
   "execution_count": null,
   "source": [
    "sampleRecords=list()\n",
    "sampleRecords_2=list()\n",
    "for i in sampleIdx:\n",
    "    sampleRecords.append(records[i])\n",
    "    sampleRecords_2.append(records_2[i])"
   ],
   "outputs": [],
   "metadata": {}
  },
  {
   "cell_type": "code",
   "execution_count": null,
   "source": [
    "len(sampleRecords), len(sampleRecords_2)"
   ],
   "outputs": [
    {
     "output_type": "execute_result",
     "data": {
      "text/plain": [
       "(3288, 3288)"
      ]
     },
     "metadata": {},
     "execution_count": 11
    }
   ],
   "metadata": {}
  },
  {
   "cell_type": "code",
   "execution_count": null,
   "source": [
    "sampleRecords[1],sampleRecords_2[1]"
   ],
   "outputs": [
    {
     "output_type": "execute_result",
     "data": {
      "text/plain": [
       "(SeqRecord(seq=Seq('AAAAAACAAAACAAAAAACACCACGAGGAGAACAGAAGATATGCATGCACTTTT...AAC'), id='SRR1758114.10710', name='SRR1758114.10710', description='SRR1758114.10710 HWI-ST337R:381:C164CACXX:6:1101:1934:7768 length=101', dbxrefs=[]),\n",
       " SeqRecord(seq=Seq('AAAGACGATATGCATGATACCTTGAAAAACTTGGGAGGGGAATGCGCCGAGCCC...ACA'), id='SRR1758114.10710', name='SRR1758114.10710', description='SRR1758114.10710 HWI-ST337R:381:C164CACXX:6:1101:1934:7768 length=101', dbxrefs=[]))"
      ]
     },
     "metadata": {},
     "execution_count": 12
    }
   ],
   "metadata": {}
  },
  {
   "cell_type": "code",
   "execution_count": null,
   "source": [
    "SeqIO.write(sampleRecords, \"../2.sample/sampled001%_SRR1758114_1.fastq\", \"fastq\")\n",
    "SeqIO.write(sampleRecords_2, \"../2.sample/sampled001%_SRR1758114_2.fastq\", \"fastq\")"
   ],
   "outputs": [
    {
     "output_type": "execute_result",
     "data": {
      "text/plain": [
       "3288"
      ]
     },
     "metadata": {},
     "execution_count": 13
    }
   ],
   "metadata": {}
  }
 ],
 "metadata": {
  "kernelspec": {
   "name": "python3",
   "display_name": "Python 3.8.10 64-bit"
  },
  "language_info": {
   "codemirror_mode": {
    "name": "ipython",
    "version": 3
   },
   "file_extension": ".py",
   "mimetype": "text/x-python",
   "name": "python",
   "nbconvert_exporter": "python",
   "pygments_lexer": "ipython3",
   "version": "3.8.10"
  },
  "interpreter": {
   "hash": "916dbcbb3f70747c44a77c7bcd40155683ae19c65e1c03b4aa3499c5328201f1"
  }
 },
 "nbformat": 4,
 "nbformat_minor": 5
}