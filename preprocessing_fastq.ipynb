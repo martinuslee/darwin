{
 "cells": [
  {
   "cell_type": "code",
   "execution_count": 4,
   "metadata": {},
   "outputs": [
    {
     "name": "stdout",
     "output_type": "stream",
     "text": [
      "Coturnix_japonica SRR1758114_1.fastq\n"
     ]
    }
   ],
   "source": [
    "from Bio import SeqIO\n",
    "import random\n",
    "#identifiers = [seq_record.id for seq_record in SeqIO.parse(\"3.SAMPLE/SRR1758114_1.fastq\",\"fastq\")]\n",
    "#len(identifiers)\n",
    "species = input() # Coturnix_japonica\n",
    "sample = input() # SRR1758114_1.fastq\n",
    "print(species, sample)"
   ]
  },
  {
   "cell_type": "code",
   "execution_count": 5,
   "metadata": {},
   "outputs": [],
   "source": [
    "records , records_2= list(SeqIO.parse(f\"3.SAMPLE/{species}/{sample}\",\"fastq\")), list(SeqIO.parse(f\"3.SAMPLE/{species}/{sample}\",\"fastq\"))"
   ]
  },
  {
   "cell_type": "markdown",
   "metadata": {},
   "source": [
    "sam = int(len(records)*0.05) #5%\n",
    "sam"
   ]
  },
  {
   "cell_type": "code",
   "execution_count": 20,
   "metadata": {},
   "outputs": [
    {
     "name": "stdout",
     "output_type": "stream",
     "text": [
      "[1776891, 2479888, 4568521, 5799288, 13304871, 15813289, 17002680, 21395263, 22434431, 23698715]\n"
     ]
    }
   ],
   "source": [
    "index = list(range(1,len(records)+1))\n",
    "len(index)\n",
    "#sampleIdx = random.sample(index, sam)\n",
    "\n",
    "#sampleIdx.sort()\n",
    "#sampleIdx = list(map(sorted, [random.sample(index, 10)]))\n",
    "sampleIdx = sorted(random.sample(index, 10))\n",
    "\n",
    "print(sampleIdx)\n",
    "#print(list(map(len, sampleIdx)))\n",
    "#sampleRecords"
   ]
  },
  {
   "cell_type": "code",
   "execution_count": 61,
   "metadata": {},
   "outputs": [],
   "source": [
    "sampleRecords, sampleRecords_2 = [], []\n",
    "for i in sampleIdx:\n",
    "    sampleRecords.append(records[i])\n",
    "    sampleRecords_2.append(records_2[i])\n"
   ]
  },
  {
   "cell_type": "code",
   "execution_count": 62,
   "metadata": {},
   "outputs": [
    {
     "data": {
      "text/plain": [
       "(10, 10)"
      ]
     },
     "execution_count": 62,
     "metadata": {},
     "output_type": "execute_result"
    }
   ],
   "source": [
    "len(sampleRecords), len(sampleRecords_2)"
   ]
  },
  {
   "cell_type": "code",
   "execution_count": 63,
   "metadata": {},
   "outputs": [],
   "source": [
    "for i in range(len(sampleRecords)):\n",
    "    SeqIO.write(sampleRecords, f'3.SAMPLE/Coturnix_japonica/test_r10_SRR1758114_1.fastq', \"fastq\")\n",
    "    SeqIO.write(sampleRecords_2, f'3.SAMPLE/Coturnix_japonica/test_r10_SRR1758114_2.fastq', \"fastq\")"
   ]
  }
 ],
 "metadata": {
  "interpreter": {
   "hash": "31f2aee4e71d21fbe5cf8b01ff0e069b9275f58929596ceb00d14d90e3e16cd6"
  },
  "kernelspec": {
   "display_name": "Python 3.8.10 64-bit",
   "name": "python3"
  },
  "language_info": {
   "codemirror_mode": {
    "name": "ipython",
    "version": 3
   },
   "file_extension": ".py",
   "mimetype": "text/x-python",
   "name": "python",
   "nbconvert_exporter": "python",
   "pygments_lexer": "ipython3",
   "version": "3.8.10"
  }
 },
 "nbformat": 4,
 "nbformat_minor": 5
}
