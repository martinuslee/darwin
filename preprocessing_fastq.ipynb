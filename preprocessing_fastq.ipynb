{
 "cells": [
  {
   "cell_type": "code",
   "execution_count": 1,
   "metadata": {},
   "outputs": [],
   "source": [
    "import os\n",
    "from Bio import SeqIO\n",
    "import random\n",
    "species = \"Ursus_americanus\" \n",
    "#sample = \"SRR1758114_1.fastq\"\n",
    "#species = \"Homo_sapiens\"\n",
    "sample = \"SRR636887_1.fastq\"\n",
    "sample2 = \"SRR636887_2.fastq\"\n",
    "\n",
    "# data = open(f\"3.SAMPLE/{species}/{sample}\", 'rb')\n",
    "# data.seek(-2,os.SEEK_END)\n",
    "# while data.read(1) != b' ':\n",
    "#     data.seek(-2, os.SEEK_CUR)\n",
    "# while data.read(1) != b'.':\n",
    "#    data.seek(-2, os.SEEK_CUR)\n",
    "# length = int(data.readline().decode().split(' ')[0])\n",
    "# print(length)"
   ]
  },
  {
   "cell_type": "markdown",
   "metadata": {},
   "source": [
    "sam = int(len(records)*0.05) #5%\n",
    "sam"
   ]
  },
  {
   "cell_type": "code",
   "execution_count": 39,
   "metadata": {},
   "outputs": [
    {
     "name": "stdout",
     "output_type": "stream",
     "text": [
      "48675571\n",
      "[1849061, 4634578, 10173020, 13674650, 13967443, 16952167, 17165642, 18016844, 21419196, 31691581]\n"
     ]
    }
   ],
   "source": [
    "index = list(range(1,length+1))\n",
    "print(len(index))\n",
    "sampleIdx = sorted(random.sample(index, 10))\n",
    "print(sampleIdx)"
   ]
  },
  {
   "cell_type": "code",
   "execution_count": 2,
   "id": "c76fcf75",
   "metadata": {},
   "outputs": [],
   "source": [
    "import os\n",
    "from Bio import SeqIO\n",
    "import random\n",
    "species = \"Ursus_americanus\" \n",
    "sample = \"SRR636887_1.fastq\"\n",
    "sample2 = \"SRR636887_2.fastq\"\n",
    "record_dict, record2_dict = SeqIO.index(f\"3.SAMPLE/{species}/{sample}\", \"fastq\"), SeqIO.index(f\"3.SAMPLE/{species}/{sample2}\", \"fastq\")"
   ]
  },
  {
   "cell_type": "code",
   "execution_count": 4,
   "id": "7b1365be",
   "metadata": {},
   "outputs": [
    {
     "name": "stdout",
     "output_type": "stream",
     "text": [
      "read ok\n",
      "key ok\n",
      "['SRR636887.10833797', 'SRR636887.11926105', 'SRR636887.12187705', 'SRR636887.13348783', 'SRR636887.14990458', 'SRR636887.18682973', 'SRR636887.21516687', 'SRR636887.2690454', 'SRR636887.6862153', 'SRR636887.926308']\n"
     ]
    }
   ],
   "source": [
    "sampleRecords, sampleRecords_2 = [], []\n",
    "\n",
    "print('read ok')\n",
    "keys = random.sample(list(record_dict), 10)\n",
    "keys = sorted(keys)\n",
    "\n",
    "print('key ok')\n",
    "print(keys)\n",
    "\n",
    "for k in keys:\n",
    "    sampleRecords.append(record_dict[k])\n",
    "    sampleRecords_2.append(record2_dict[k])\n",
    "    "
   ]
  },
  {
   "cell_type": "code",
   "execution_count": 41,
   "metadata": {},
   "outputs": [],
   "source": [
    "for i in range(len(sampleRecords)):\n",
    "    SeqIO.write(sampleRecords, f'3.SAMPLE/{species}/r10_{sample}', \"fastq\")\n",
    "    SeqIO.write(sampleRecords_2, f'3.SAMPLE/{species}/r10_{sample2}', \"fastq\")\n"
   ]
  }
 ],
 "metadata": {
  "interpreter": {
   "hash": "31f2aee4e71d21fbe5cf8b01ff0e069b9275f58929596ceb00d14d90e3e16cd6"
  },
  "kernelspec": {
   "display_name": "Python 3.8.10 64-bit",
   "name": "python3"
  },
  "language_info": {
   "codemirror_mode": {
    "name": "ipython",
    "version": 3
   },
   "file_extension": ".py",
   "mimetype": "text/x-python",
   "name": "python",
   "nbconvert_exporter": "python",
   "pygments_lexer": "ipython3",
   "version": "3.8.10"
  }
 },
 "nbformat": 4,
 "nbformat_minor": 5
}
